{
 "cells": [
  {
   "cell_type": "markdown",
   "metadata": {},
   "source": [
    "# Seattle Bike Traffic Prediction"
   ]
  },
  {
   "cell_type": "markdown",
   "metadata": {},
   "source": [
    "## Datasets\n",
    "### Source: \n",
    "- Fremont Bridge data\n",
    "\n",
    "! curl -o FremontBridge.csv https://data.seattle.gov/api/views/65db-xm6k/rows.csv?accessType=DOWNLOAD\n",
    "\n",
    "- Weather data\n",
    "\n",
    "http://www.ncdc.noaa.gov/cdo-web/search?datasetid=GHCND\n",
    "\n",
    "\n",
    "Clean Dataset: [https://github.com/subashgandyer/datasets/blob/main/seattle_bike_data.csv]"
   ]
  },
  {
   "cell_type": "code",
   "execution_count": 1,
   "metadata": {},
   "outputs": [],
   "source": [
    "%matplotlib inline\n",
    "import matplotlib.pyplot as plt\n",
    "import numpy as np\n",
    "import pandas as pd\n",
    "import seaborn as sns\n",
    "sns.set()"
   ]
  },
  {
   "cell_type": "code",
   "execution_count": 3,
   "metadata": {},
   "outputs": [
    {
     "data": {
      "text/html": [
       "<div>\n",
       "<style scoped>\n",
       "    .dataframe tbody tr th:only-of-type {\n",
       "        vertical-align: middle;\n",
       "    }\n",
       "\n",
       "    .dataframe tbody tr th {\n",
       "        vertical-align: top;\n",
       "    }\n",
       "\n",
       "    .dataframe thead th {\n",
       "        text-align: right;\n",
       "    }\n",
       "</style>\n",
       "<table border=\"1\" class=\"dataframe\">\n",
       "  <thead>\n",
       "    <tr style=\"text-align: right;\">\n",
       "      <th></th>\n",
       "      <th>Date</th>\n",
       "      <th>TotalBikesCount</th>\n",
       "      <th>Mon</th>\n",
       "      <th>Tue</th>\n",
       "      <th>Wed</th>\n",
       "      <th>Thu</th>\n",
       "      <th>Fri</th>\n",
       "      <th>Sat</th>\n",
       "      <th>Sun</th>\n",
       "      <th>holiday</th>\n",
       "      <th>DayLightHrs</th>\n",
       "      <th>AvgTempInC</th>\n",
       "      <th>PRCP_IN</th>\n",
       "      <th>DryDay</th>\n",
       "      <th>YearsCount</th>\n",
       "    </tr>\n",
       "  </thead>\n",
       "  <tbody>\n",
       "    <tr>\n",
       "      <th>0</th>\n",
       "      <td>2012-10-03</td>\n",
       "      <td>3521.0</td>\n",
       "      <td>0</td>\n",
       "      <td>0</td>\n",
       "      <td>1</td>\n",
       "      <td>0</td>\n",
       "      <td>0</td>\n",
       "      <td>0</td>\n",
       "      <td>0</td>\n",
       "      <td>0</td>\n",
       "      <td>11.277359</td>\n",
       "      <td>5.60</td>\n",
       "      <td>0.0</td>\n",
       "      <td>1</td>\n",
       "      <td>0.000000</td>\n",
       "    </tr>\n",
       "    <tr>\n",
       "      <th>1</th>\n",
       "      <td>2012-10-04</td>\n",
       "      <td>3475.0</td>\n",
       "      <td>0</td>\n",
       "      <td>0</td>\n",
       "      <td>0</td>\n",
       "      <td>1</td>\n",
       "      <td>0</td>\n",
       "      <td>0</td>\n",
       "      <td>0</td>\n",
       "      <td>0</td>\n",
       "      <td>11.219142</td>\n",
       "      <td>5.65</td>\n",
       "      <td>0.0</td>\n",
       "      <td>1</td>\n",
       "      <td>0.002740</td>\n",
       "    </tr>\n",
       "    <tr>\n",
       "      <th>2</th>\n",
       "      <td>2012-10-05</td>\n",
       "      <td>3148.0</td>\n",
       "      <td>0</td>\n",
       "      <td>0</td>\n",
       "      <td>0</td>\n",
       "      <td>0</td>\n",
       "      <td>1</td>\n",
       "      <td>0</td>\n",
       "      <td>0</td>\n",
       "      <td>0</td>\n",
       "      <td>11.161038</td>\n",
       "      <td>5.95</td>\n",
       "      <td>0.0</td>\n",
       "      <td>1</td>\n",
       "      <td>0.005479</td>\n",
       "    </tr>\n",
       "    <tr>\n",
       "      <th>3</th>\n",
       "      <td>2012-10-06</td>\n",
       "      <td>2006.0</td>\n",
       "      <td>0</td>\n",
       "      <td>0</td>\n",
       "      <td>0</td>\n",
       "      <td>0</td>\n",
       "      <td>0</td>\n",
       "      <td>1</td>\n",
       "      <td>0</td>\n",
       "      <td>0</td>\n",
       "      <td>11.103056</td>\n",
       "      <td>6.05</td>\n",
       "      <td>0.0</td>\n",
       "      <td>1</td>\n",
       "      <td>0.008219</td>\n",
       "    </tr>\n",
       "    <tr>\n",
       "      <th>4</th>\n",
       "      <td>2012-10-07</td>\n",
       "      <td>2142.0</td>\n",
       "      <td>0</td>\n",
       "      <td>0</td>\n",
       "      <td>0</td>\n",
       "      <td>0</td>\n",
       "      <td>0</td>\n",
       "      <td>0</td>\n",
       "      <td>1</td>\n",
       "      <td>0</td>\n",
       "      <td>11.045208</td>\n",
       "      <td>6.05</td>\n",
       "      <td>0.0</td>\n",
       "      <td>1</td>\n",
       "      <td>0.010959</td>\n",
       "    </tr>\n",
       "  </tbody>\n",
       "</table>\n",
       "</div>"
      ],
      "text/plain": [
       "         Date  TotalBikesCount  Mon  Tue  Wed  Thu  Fri  Sat  Sun  holiday  \\\n",
       "0  2012-10-03           3521.0    0    0    1    0    0    0    0        0   \n",
       "1  2012-10-04           3475.0    0    0    0    1    0    0    0        0   \n",
       "2  2012-10-05           3148.0    0    0    0    0    1    0    0        0   \n",
       "3  2012-10-06           2006.0    0    0    0    0    0    1    0        0   \n",
       "4  2012-10-07           2142.0    0    0    0    0    0    0    1        0   \n",
       "\n",
       "   DayLightHrs  AvgTempInC  PRCP_IN  DryDay  YearsCount  \n",
       "0    11.277359        5.60      0.0       1    0.000000  \n",
       "1    11.219142        5.65      0.0       1    0.002740  \n",
       "2    11.161038        5.95      0.0       1    0.005479  \n",
       "3    11.103056        6.05      0.0       1    0.008219  \n",
       "4    11.045208        6.05      0.0       1    0.010959  "
      ]
     },
     "execution_count": 3,
     "metadata": {},
     "output_type": "execute_result"
    }
   ],
   "source": [
    "df = pd.read_csv('data/seattle_bike_data.csv', index_col=0, parse_dates=True)\n",
    "df.head(5)"
   ]
  },
  {
   "cell_type": "code",
   "execution_count": 4,
   "metadata": {},
   "outputs": [
    {
     "data": {
      "text/plain": [
       "Date                object\n",
       "TotalBikesCount    float64\n",
       "Mon                  int64\n",
       "Tue                  int64\n",
       "Wed                  int64\n",
       "Thu                  int64\n",
       "Fri                  int64\n",
       "Sat                  int64\n",
       "Sun                  int64\n",
       "holiday              int64\n",
       "DayLightHrs        float64\n",
       "AvgTempInC         float64\n",
       "PRCP_IN            float64\n",
       "DryDay               int64\n",
       "YearsCount         float64\n",
       "dtype: object"
      ]
     },
     "execution_count": 4,
     "metadata": {},
     "output_type": "execute_result"
    }
   ],
   "source": [
    "df.dtypes"
   ]
  },
  {
   "cell_type": "markdown",
   "metadata": {},
   "source": [
    "### Convert Date into Pandas Date"
   ]
  },
  {
   "cell_type": "code",
   "execution_count": 5,
   "metadata": {},
   "outputs": [
    {
     "data": {
      "text/plain": [
       "Date               datetime64[ns]\n",
       "TotalBikesCount           float64\n",
       "Mon                         int64\n",
       "Tue                         int64\n",
       "Wed                         int64\n",
       "Thu                         int64\n",
       "Fri                         int64\n",
       "Sat                         int64\n",
       "Sun                         int64\n",
       "holiday                     int64\n",
       "DayLightHrs               float64\n",
       "AvgTempInC                float64\n",
       "PRCP_IN                   float64\n",
       "DryDay                      int64\n",
       "YearsCount                float64\n",
       "dtype: object"
      ]
     },
     "execution_count": 5,
     "metadata": {},
     "output_type": "execute_result"
    }
   ],
   "source": [
    "df['Date'] = pd.to_datetime(df['Date'])\n",
    "df.dtypes"
   ]
  },
  {
   "cell_type": "code",
   "execution_count": 6,
   "metadata": {},
   "outputs": [
    {
     "data": {
      "text/html": [
       "<div>\n",
       "<style scoped>\n",
       "    .dataframe tbody tr th:only-of-type {\n",
       "        vertical-align: middle;\n",
       "    }\n",
       "\n",
       "    .dataframe tbody tr th {\n",
       "        vertical-align: top;\n",
       "    }\n",
       "\n",
       "    .dataframe thead th {\n",
       "        text-align: right;\n",
       "    }\n",
       "</style>\n",
       "<table border=\"1\" class=\"dataframe\">\n",
       "  <thead>\n",
       "    <tr style=\"text-align: right;\">\n",
       "      <th></th>\n",
       "      <th>Date</th>\n",
       "      <th>TotalBikesCount</th>\n",
       "      <th>Mon</th>\n",
       "      <th>Tue</th>\n",
       "      <th>Wed</th>\n",
       "      <th>Thu</th>\n",
       "      <th>Fri</th>\n",
       "      <th>Sat</th>\n",
       "      <th>Sun</th>\n",
       "      <th>holiday</th>\n",
       "      <th>DayLightHrs</th>\n",
       "      <th>AvgTempInC</th>\n",
       "      <th>PRCP_IN</th>\n",
       "      <th>DryDay</th>\n",
       "      <th>YearsCount</th>\n",
       "    </tr>\n",
       "  </thead>\n",
       "  <tbody>\n",
       "    <tr>\n",
       "      <th>0</th>\n",
       "      <td>2012-10-03</td>\n",
       "      <td>3521.0</td>\n",
       "      <td>0</td>\n",
       "      <td>0</td>\n",
       "      <td>1</td>\n",
       "      <td>0</td>\n",
       "      <td>0</td>\n",
       "      <td>0</td>\n",
       "      <td>0</td>\n",
       "      <td>0</td>\n",
       "      <td>11.277359</td>\n",
       "      <td>5.60</td>\n",
       "      <td>0.0</td>\n",
       "      <td>1</td>\n",
       "      <td>0.000000</td>\n",
       "    </tr>\n",
       "    <tr>\n",
       "      <th>1</th>\n",
       "      <td>2012-10-04</td>\n",
       "      <td>3475.0</td>\n",
       "      <td>0</td>\n",
       "      <td>0</td>\n",
       "      <td>0</td>\n",
       "      <td>1</td>\n",
       "      <td>0</td>\n",
       "      <td>0</td>\n",
       "      <td>0</td>\n",
       "      <td>0</td>\n",
       "      <td>11.219142</td>\n",
       "      <td>5.65</td>\n",
       "      <td>0.0</td>\n",
       "      <td>1</td>\n",
       "      <td>0.002740</td>\n",
       "    </tr>\n",
       "    <tr>\n",
       "      <th>2</th>\n",
       "      <td>2012-10-05</td>\n",
       "      <td>3148.0</td>\n",
       "      <td>0</td>\n",
       "      <td>0</td>\n",
       "      <td>0</td>\n",
       "      <td>0</td>\n",
       "      <td>1</td>\n",
       "      <td>0</td>\n",
       "      <td>0</td>\n",
       "      <td>0</td>\n",
       "      <td>11.161038</td>\n",
       "      <td>5.95</td>\n",
       "      <td>0.0</td>\n",
       "      <td>1</td>\n",
       "      <td>0.005479</td>\n",
       "    </tr>\n",
       "    <tr>\n",
       "      <th>3</th>\n",
       "      <td>2012-10-06</td>\n",
       "      <td>2006.0</td>\n",
       "      <td>0</td>\n",
       "      <td>0</td>\n",
       "      <td>0</td>\n",
       "      <td>0</td>\n",
       "      <td>0</td>\n",
       "      <td>1</td>\n",
       "      <td>0</td>\n",
       "      <td>0</td>\n",
       "      <td>11.103056</td>\n",
       "      <td>6.05</td>\n",
       "      <td>0.0</td>\n",
       "      <td>1</td>\n",
       "      <td>0.008219</td>\n",
       "    </tr>\n",
       "    <tr>\n",
       "      <th>4</th>\n",
       "      <td>2012-10-07</td>\n",
       "      <td>2142.0</td>\n",
       "      <td>0</td>\n",
       "      <td>0</td>\n",
       "      <td>0</td>\n",
       "      <td>0</td>\n",
       "      <td>0</td>\n",
       "      <td>0</td>\n",
       "      <td>1</td>\n",
       "      <td>0</td>\n",
       "      <td>11.045208</td>\n",
       "      <td>6.05</td>\n",
       "      <td>0.0</td>\n",
       "      <td>1</td>\n",
       "      <td>0.010959</td>\n",
       "    </tr>\n",
       "    <tr>\n",
       "      <th>...</th>\n",
       "      <td>...</td>\n",
       "      <td>...</td>\n",
       "      <td>...</td>\n",
       "      <td>...</td>\n",
       "      <td>...</td>\n",
       "      <td>...</td>\n",
       "      <td>...</td>\n",
       "      <td>...</td>\n",
       "      <td>...</td>\n",
       "      <td>...</td>\n",
       "      <td>...</td>\n",
       "      <td>...</td>\n",
       "      <td>...</td>\n",
       "      <td>...</td>\n",
       "      <td>...</td>\n",
       "    </tr>\n",
       "    <tr>\n",
       "      <th>2092</th>\n",
       "      <td>2018-06-26</td>\n",
       "      <td>4771.0</td>\n",
       "      <td>0</td>\n",
       "      <td>1</td>\n",
       "      <td>0</td>\n",
       "      <td>0</td>\n",
       "      <td>0</td>\n",
       "      <td>0</td>\n",
       "      <td>0</td>\n",
       "      <td>0</td>\n",
       "      <td>15.769483</td>\n",
       "      <td>6.30</td>\n",
       "      <td>0.0</td>\n",
       "      <td>1</td>\n",
       "      <td>5.731507</td>\n",
       "    </tr>\n",
       "    <tr>\n",
       "      <th>2093</th>\n",
       "      <td>2018-06-27</td>\n",
       "      <td>4942.0</td>\n",
       "      <td>0</td>\n",
       "      <td>0</td>\n",
       "      <td>1</td>\n",
       "      <td>0</td>\n",
       "      <td>0</td>\n",
       "      <td>0</td>\n",
       "      <td>0</td>\n",
       "      <td>0</td>\n",
       "      <td>15.763178</td>\n",
       "      <td>6.05</td>\n",
       "      <td>0.0</td>\n",
       "      <td>1</td>\n",
       "      <td>5.734247</td>\n",
       "    </tr>\n",
       "    <tr>\n",
       "      <th>2094</th>\n",
       "      <td>2018-06-28</td>\n",
       "      <td>4387.0</td>\n",
       "      <td>0</td>\n",
       "      <td>0</td>\n",
       "      <td>0</td>\n",
       "      <td>1</td>\n",
       "      <td>0</td>\n",
       "      <td>0</td>\n",
       "      <td>0</td>\n",
       "      <td>0</td>\n",
       "      <td>15.755520</td>\n",
       "      <td>6.10</td>\n",
       "      <td>0.0</td>\n",
       "      <td>1</td>\n",
       "      <td>5.736986</td>\n",
       "    </tr>\n",
       "    <tr>\n",
       "      <th>2095</th>\n",
       "      <td>2018-06-29</td>\n",
       "      <td>4919.0</td>\n",
       "      <td>0</td>\n",
       "      <td>0</td>\n",
       "      <td>0</td>\n",
       "      <td>0</td>\n",
       "      <td>1</td>\n",
       "      <td>0</td>\n",
       "      <td>0</td>\n",
       "      <td>0</td>\n",
       "      <td>15.746518</td>\n",
       "      <td>6.35</td>\n",
       "      <td>0.0</td>\n",
       "      <td>1</td>\n",
       "      <td>5.739726</td>\n",
       "    </tr>\n",
       "    <tr>\n",
       "      <th>2096</th>\n",
       "      <td>2018-06-30</td>\n",
       "      <td>1731.0</td>\n",
       "      <td>0</td>\n",
       "      <td>0</td>\n",
       "      <td>0</td>\n",
       "      <td>0</td>\n",
       "      <td>0</td>\n",
       "      <td>1</td>\n",
       "      <td>0</td>\n",
       "      <td>0</td>\n",
       "      <td>15.736179</td>\n",
       "      <td>6.10</td>\n",
       "      <td>0.0</td>\n",
       "      <td>1</td>\n",
       "      <td>5.742466</td>\n",
       "    </tr>\n",
       "  </tbody>\n",
       "</table>\n",
       "<p>2097 rows × 15 columns</p>\n",
       "</div>"
      ],
      "text/plain": [
       "           Date  TotalBikesCount  Mon  Tue  Wed  Thu  Fri  Sat  Sun  holiday  \\\n",
       "0    2012-10-03           3521.0    0    0    1    0    0    0    0        0   \n",
       "1    2012-10-04           3475.0    0    0    0    1    0    0    0        0   \n",
       "2    2012-10-05           3148.0    0    0    0    0    1    0    0        0   \n",
       "3    2012-10-06           2006.0    0    0    0    0    0    1    0        0   \n",
       "4    2012-10-07           2142.0    0    0    0    0    0    0    1        0   \n",
       "...         ...              ...  ...  ...  ...  ...  ...  ...  ...      ...   \n",
       "2092 2018-06-26           4771.0    0    1    0    0    0    0    0        0   \n",
       "2093 2018-06-27           4942.0    0    0    1    0    0    0    0        0   \n",
       "2094 2018-06-28           4387.0    0    0    0    1    0    0    0        0   \n",
       "2095 2018-06-29           4919.0    0    0    0    0    1    0    0        0   \n",
       "2096 2018-06-30           1731.0    0    0    0    0    0    1    0        0   \n",
       "\n",
       "      DayLightHrs  AvgTempInC  PRCP_IN  DryDay  YearsCount  \n",
       "0       11.277359        5.60      0.0       1    0.000000  \n",
       "1       11.219142        5.65      0.0       1    0.002740  \n",
       "2       11.161038        5.95      0.0       1    0.005479  \n",
       "3       11.103056        6.05      0.0       1    0.008219  \n",
       "4       11.045208        6.05      0.0       1    0.010959  \n",
       "...           ...         ...      ...     ...         ...  \n",
       "2092    15.769483        6.30      0.0       1    5.731507  \n",
       "2093    15.763178        6.05      0.0       1    5.734247  \n",
       "2094    15.755520        6.10      0.0       1    5.736986  \n",
       "2095    15.746518        6.35      0.0       1    5.739726  \n",
       "2096    15.736179        6.10      0.0       1    5.742466  \n",
       "\n",
       "[2097 rows x 15 columns]"
      ]
     },
     "execution_count": 6,
     "metadata": {},
     "output_type": "execute_result"
    }
   ],
   "source": [
    "df"
   ]
  },
  {
   "cell_type": "markdown",
   "metadata": {},
   "source": [
    "### Set Date as index"
   ]
  },
  {
   "cell_type": "code",
   "execution_count": 7,
   "metadata": {},
   "outputs": [
    {
     "data": {
      "text/html": [
       "<div>\n",
       "<style scoped>\n",
       "    .dataframe tbody tr th:only-of-type {\n",
       "        vertical-align: middle;\n",
       "    }\n",
       "\n",
       "    .dataframe tbody tr th {\n",
       "        vertical-align: top;\n",
       "    }\n",
       "\n",
       "    .dataframe thead th {\n",
       "        text-align: right;\n",
       "    }\n",
       "</style>\n",
       "<table border=\"1\" class=\"dataframe\">\n",
       "  <thead>\n",
       "    <tr style=\"text-align: right;\">\n",
       "      <th></th>\n",
       "      <th>TotalBikesCount</th>\n",
       "      <th>Mon</th>\n",
       "      <th>Tue</th>\n",
       "      <th>Wed</th>\n",
       "      <th>Thu</th>\n",
       "      <th>Fri</th>\n",
       "      <th>Sat</th>\n",
       "      <th>Sun</th>\n",
       "      <th>holiday</th>\n",
       "      <th>DayLightHrs</th>\n",
       "      <th>AvgTempInC</th>\n",
       "      <th>PRCP_IN</th>\n",
       "      <th>DryDay</th>\n",
       "      <th>YearsCount</th>\n",
       "    </tr>\n",
       "    <tr>\n",
       "      <th>Date</th>\n",
       "      <th></th>\n",
       "      <th></th>\n",
       "      <th></th>\n",
       "      <th></th>\n",
       "      <th></th>\n",
       "      <th></th>\n",
       "      <th></th>\n",
       "      <th></th>\n",
       "      <th></th>\n",
       "      <th></th>\n",
       "      <th></th>\n",
       "      <th></th>\n",
       "      <th></th>\n",
       "      <th></th>\n",
       "    </tr>\n",
       "  </thead>\n",
       "  <tbody>\n",
       "    <tr>\n",
       "      <th>2012-10-03</th>\n",
       "      <td>3521.0</td>\n",
       "      <td>0</td>\n",
       "      <td>0</td>\n",
       "      <td>1</td>\n",
       "      <td>0</td>\n",
       "      <td>0</td>\n",
       "      <td>0</td>\n",
       "      <td>0</td>\n",
       "      <td>0</td>\n",
       "      <td>11.277359</td>\n",
       "      <td>5.60</td>\n",
       "      <td>0.0</td>\n",
       "      <td>1</td>\n",
       "      <td>0.000000</td>\n",
       "    </tr>\n",
       "    <tr>\n",
       "      <th>2012-10-04</th>\n",
       "      <td>3475.0</td>\n",
       "      <td>0</td>\n",
       "      <td>0</td>\n",
       "      <td>0</td>\n",
       "      <td>1</td>\n",
       "      <td>0</td>\n",
       "      <td>0</td>\n",
       "      <td>0</td>\n",
       "      <td>0</td>\n",
       "      <td>11.219142</td>\n",
       "      <td>5.65</td>\n",
       "      <td>0.0</td>\n",
       "      <td>1</td>\n",
       "      <td>0.002740</td>\n",
       "    </tr>\n",
       "    <tr>\n",
       "      <th>2012-10-05</th>\n",
       "      <td>3148.0</td>\n",
       "      <td>0</td>\n",
       "      <td>0</td>\n",
       "      <td>0</td>\n",
       "      <td>0</td>\n",
       "      <td>1</td>\n",
       "      <td>0</td>\n",
       "      <td>0</td>\n",
       "      <td>0</td>\n",
       "      <td>11.161038</td>\n",
       "      <td>5.95</td>\n",
       "      <td>0.0</td>\n",
       "      <td>1</td>\n",
       "      <td>0.005479</td>\n",
       "    </tr>\n",
       "    <tr>\n",
       "      <th>2012-10-06</th>\n",
       "      <td>2006.0</td>\n",
       "      <td>0</td>\n",
       "      <td>0</td>\n",
       "      <td>0</td>\n",
       "      <td>0</td>\n",
       "      <td>0</td>\n",
       "      <td>1</td>\n",
       "      <td>0</td>\n",
       "      <td>0</td>\n",
       "      <td>11.103056</td>\n",
       "      <td>6.05</td>\n",
       "      <td>0.0</td>\n",
       "      <td>1</td>\n",
       "      <td>0.008219</td>\n",
       "    </tr>\n",
       "    <tr>\n",
       "      <th>2012-10-07</th>\n",
       "      <td>2142.0</td>\n",
       "      <td>0</td>\n",
       "      <td>0</td>\n",
       "      <td>0</td>\n",
       "      <td>0</td>\n",
       "      <td>0</td>\n",
       "      <td>0</td>\n",
       "      <td>1</td>\n",
       "      <td>0</td>\n",
       "      <td>11.045208</td>\n",
       "      <td>6.05</td>\n",
       "      <td>0.0</td>\n",
       "      <td>1</td>\n",
       "      <td>0.010959</td>\n",
       "    </tr>\n",
       "  </tbody>\n",
       "</table>\n",
       "</div>"
      ],
      "text/plain": [
       "            TotalBikesCount  Mon  Tue  Wed  Thu  Fri  Sat  Sun  holiday  \\\n",
       "Date                                                                      \n",
       "2012-10-03           3521.0    0    0    1    0    0    0    0        0   \n",
       "2012-10-04           3475.0    0    0    0    1    0    0    0        0   \n",
       "2012-10-05           3148.0    0    0    0    0    1    0    0        0   \n",
       "2012-10-06           2006.0    0    0    0    0    0    1    0        0   \n",
       "2012-10-07           2142.0    0    0    0    0    0    0    1        0   \n",
       "\n",
       "            DayLightHrs  AvgTempInC  PRCP_IN  DryDay  YearsCount  \n",
       "Date                                                              \n",
       "2012-10-03    11.277359        5.60      0.0       1    0.000000  \n",
       "2012-10-04    11.219142        5.65      0.0       1    0.002740  \n",
       "2012-10-05    11.161038        5.95      0.0       1    0.005479  \n",
       "2012-10-06    11.103056        6.05      0.0       1    0.008219  \n",
       "2012-10-07    11.045208        6.05      0.0       1    0.010959  "
      ]
     },
     "execution_count": 7,
     "metadata": {},
     "output_type": "execute_result"
    }
   ],
   "source": [
    "df = df.set_index('Date')\n",
    "df.head(5)"
   ]
  },
  {
   "cell_type": "code",
   "execution_count": 8,
   "metadata": {},
   "outputs": [
    {
     "data": {
      "text/plain": [
       "(2097, 14)"
      ]
     },
     "execution_count": 8,
     "metadata": {},
     "output_type": "execute_result"
    }
   ],
   "source": [
    "df.shape"
   ]
  },
  {
   "cell_type": "code",
   "execution_count": 9,
   "metadata": {},
   "outputs": [
    {
     "data": {
      "text/plain": [
       "Index(['TotalBikesCount', 'Mon', 'Tue', 'Wed', 'Thu', 'Fri', 'Sat', 'Sun',\n",
       "       'holiday', 'DayLightHrs', 'AvgTempInC', 'PRCP_IN', 'DryDay',\n",
       "       'YearsCount'],\n",
       "      dtype='object')"
      ]
     },
     "execution_count": 9,
     "metadata": {},
     "output_type": "execute_result"
    }
   ],
   "source": [
    "df.columns"
   ]
  },
  {
   "cell_type": "markdown",
   "metadata": {},
   "source": [
    "### Split into X and y"
   ]
  },
  {
   "cell_type": "code",
   "execution_count": 11,
   "metadata": {},
   "outputs": [
    {
     "data": {
      "text/plain": [
       "((2097, 13), (2097,))"
      ]
     },
     "execution_count": 11,
     "metadata": {},
     "output_type": "execute_result"
    }
   ],
   "source": [
    "indep_cols = ['Mon', 'Tue', 'Wed', 'Thu', 'Fri', 'Sat', 'Sun',\n",
    "       'holiday', 'DayLightHrs', 'AvgTempInC', 'PRCP_IN', 'DryDay','YearsCount']\n",
    "X = df[indep_cols]\n",
    "y = df['TotalBikesCount']\n",
    "X.shape, y.shape"
   ]
  },
  {
   "cell_type": "code",
   "execution_count": 12,
   "metadata": {},
   "outputs": [
    {
     "data": {
      "text/plain": [
       "LinearRegression(fit_intercept=False)"
      ]
     },
     "execution_count": 12,
     "metadata": {},
     "output_type": "execute_result"
    }
   ],
   "source": [
    "from sklearn.linear_model import LinearRegression\n",
    "\n",
    "model = LinearRegression(fit_intercept=False)\n",
    "model.fit(X, y)"
   ]
  },
  {
   "cell_type": "code",
   "execution_count": 13,
   "metadata": {},
   "outputs": [
    {
     "data": {
      "text/plain": [
       "array([3509.10208841, 3375.37680672, 3171.1559462 , ..., 4294.78165878,\n",
       "       4075.72089562, 2626.74466652])"
      ]
     },
     "execution_count": 13,
     "metadata": {},
     "output_type": "execute_result"
    }
   ],
   "source": [
    "predictions = model.predict(X)\n",
    "predictions"
   ]
  },
  {
   "cell_type": "code",
   "execution_count": 14,
   "metadata": {},
   "outputs": [
    {
     "data": {
      "text/html": [
       "<div>\n",
       "<style scoped>\n",
       "    .dataframe tbody tr th:only-of-type {\n",
       "        vertical-align: middle;\n",
       "    }\n",
       "\n",
       "    .dataframe tbody tr th {\n",
       "        vertical-align: top;\n",
       "    }\n",
       "\n",
       "    .dataframe thead th {\n",
       "        text-align: right;\n",
       "    }\n",
       "</style>\n",
       "<table border=\"1\" class=\"dataframe\">\n",
       "  <thead>\n",
       "    <tr style=\"text-align: right;\">\n",
       "      <th></th>\n",
       "      <th>TotalBikesCount</th>\n",
       "      <th>Predictions</th>\n",
       "    </tr>\n",
       "    <tr>\n",
       "      <th>Date</th>\n",
       "      <th></th>\n",
       "      <th></th>\n",
       "    </tr>\n",
       "  </thead>\n",
       "  <tbody>\n",
       "    <tr>\n",
       "      <th>2012-10-03</th>\n",
       "      <td>3521.0</td>\n",
       "      <td>3509.102088</td>\n",
       "    </tr>\n",
       "    <tr>\n",
       "      <th>2012-10-04</th>\n",
       "      <td>3475.0</td>\n",
       "      <td>3375.376807</td>\n",
       "    </tr>\n",
       "    <tr>\n",
       "      <th>2012-10-05</th>\n",
       "      <td>3148.0</td>\n",
       "      <td>3171.155946</td>\n",
       "    </tr>\n",
       "    <tr>\n",
       "      <th>2012-10-06</th>\n",
       "      <td>2006.0</td>\n",
       "      <td>1859.059961</td>\n",
       "    </tr>\n",
       "    <tr>\n",
       "      <th>2012-10-07</th>\n",
       "      <td>2142.0</td>\n",
       "      <td>1776.258124</td>\n",
       "    </tr>\n",
       "  </tbody>\n",
       "</table>\n",
       "</div>"
      ],
      "text/plain": [
       "            TotalBikesCount  Predictions\n",
       "Date                                    \n",
       "2012-10-03           3521.0  3509.102088\n",
       "2012-10-04           3475.0  3375.376807\n",
       "2012-10-05           3148.0  3171.155946\n",
       "2012-10-06           2006.0  1859.059961\n",
       "2012-10-07           2142.0  1776.258124"
      ]
     },
     "execution_count": 14,
     "metadata": {},
     "output_type": "execute_result"
    }
   ],
   "source": [
    "df1= df[['TotalBikesCount']].copy()\n",
    "df1['Predictions'] = predictions\n",
    "df1.head(5)"
   ]
  },
  {
   "cell_type": "code",
   "execution_count": 15,
   "metadata": {},
   "outputs": [
    {
     "data": {
      "image/png": "[encoded data removed]",
      "text/plain": [
       "<Figure size 1296x360 with 1 Axes>"
      ]
     },
     "metadata": {},
     "output_type": "display_data"
    }
   ],
   "source": [
    "import datetime as dt\n",
    "df1.plot(alpha=0.4, figsize=(18,5), color=['r','g'])\n",
    "plt.legend(loc='upper left')\n",
    "plt.show()\n",
    "# If x-axis doesn't show years, \n",
    "# make sure the 'Date' column was converted to datetime from String, \n",
    "# before it was set as index"
   ]
  },
  {
   "cell_type": "code",
   "execution_count": 16,
   "metadata": {},
   "outputs": [
    {
     "data": {
      "text/plain": [
       "array([-6.54065823e+02, -5.26114967e+02, -5.40396337e+02, -6.88055804e+02,\n",
       "       -1.00778818e+03, -2.35415766e+03, -2.43062192e+03, -1.20007497e+03,\n",
       "        1.11462695e+02,  4.06258710e+02, -1.75737653e+05,  5.17444792e+02,\n",
       "        4.02758119e+01])"
      ]
     },
     "execution_count": 16,
     "metadata": {},
     "output_type": "execute_result"
    }
   ],
   "source": [
    "model.coef_"
   ]
  },
  {
   "cell_type": "code",
   "execution_count": 17,
   "metadata": {},
   "outputs": [
    {
     "data": {
      "text/plain": [
       "Mon              -654.065823\n",
       "Tue              -526.114967\n",
       "Wed              -540.396337\n",
       "Thu              -688.055804\n",
       "Fri             -1007.788184\n",
       "Sat             -2354.157663\n",
       "Sun             -2430.621920\n",
       "holiday         -1200.074973\n",
       "DayLightHrs       111.462695\n",
       "AvgTempInC        406.258710\n",
       "PRCP_IN       -175737.652995\n",
       "DryDay            517.444792\n",
       "YearsCount         40.275812\n",
       "dtype: float64"
      ]
     },
     "execution_count": 17,
     "metadata": {},
     "output_type": "execute_result"
    }
   ],
   "source": [
    "coeffs = pd.Series(model.coef_, index=x.columns)\n",
    "coeffs"
   ]
  },
  {
   "cell_type": "markdown",
   "metadata": {},
   "source": [
    "### Observations / Insights ???"
   ]
  },
  {
   "cell_type": "code",
   "execution_count": null,
   "metadata": {},
   "outputs": [],
   "source": []
  },
  {
   "cell_type": "code",
   "execution_count": 18,
   "metadata": {},
   "outputs": [
    {
     "name": "stdout",
     "output_type": "stream",
     "text": [
      "model.coef_ [-6.54065823e+02 -5.26114967e+02 -5.40396337e+02 -6.88055804e+02\n",
      " -1.00778818e+03 -2.35415766e+03 -2.43062192e+03 -1.20007497e+03\n",
      "  1.11462695e+02  4.06258710e+02 -1.75737653e+05  5.17444792e+02\n",
      "  4.02758119e+01]\n",
      "model.coef_ [-7.79061219e+02 -6.49853880e+02 -6.68819471e+02 -8.05986149e+02\n",
      " -1.18305039e+03 -2.37683403e+03 -2.50097282e+03 -1.40768824e+03\n",
      "  1.05929034e+02  4.38932679e+02 -1.73940958e+05  5.02182207e+02\n",
      "  3.82046791e+01]\n",
      "model.coef_ [-6.82684777e+02 -6.28769201e+02 -5.76177085e+02 -7.40079733e+02\n",
      " -9.65667234e+02 -2.39261374e+03 -2.45332014e+03 -1.28469626e+03\n",
      "  1.11977625e+02  4.08122131e+02 -1.70291166e+05  5.48684693e+02\n",
      "  3.89874626e+01]\n",
      "Why are the  coefficients different with data resampling/shuffling? Only the order of the data is changed and not the data itself, right?\n",
      "temp : [[1 1 2 3 4]\n",
      " [2 6 7 8 9]\n",
      " [3 6 7 8 9]\n",
      " [4 6 7 8 9]\n",
      " [5 6 7 8 9]]\n",
      "temp resampled : [[1 1 2 3 4]\n",
      " [5 6 7 8 9]\n",
      " [5 6 7 8 9]\n",
      " [4 6 7 8 9]\n",
      " [1 1 2 3 4]]\n",
      "Resampled data is different and seems close to the original one. And now you know why the coefficients are different.\n"
     ]
    }
   ],
   "source": [
    "from sklearn.utils import resample\n",
    "model.fit(X, y)\n",
    "print('model.coef_',model.coef_)\n",
    "model.fit(*resample(X, y))\n",
    "print('model.coef_',model.coef_)\n",
    "model.fit(*resample(X, y))\n",
    "print('model.coef_',model.coef_)\n",
    "print('Why are the  coefficients different with data resampling/shuffling? Only the order of the data is changed and not the data itself, right?')\n",
    "\n",
    "\n",
    "temp = np.asarray([\n",
    "                [1,1,2,3,4], # 1st row\n",
    "                [2,6,7,8,9], # 2nd row\n",
    "                [3,6,7,8,9], # 3rd row\n",
    "                [4,6,7,8,9], # 4th row\n",
    "                [5,6,7,8,9]  # 5th row\n",
    "              ])\n",
    "print('temp :',temp)\n",
    "print('temp resampled :',resample(temp))\n",
    "print('Resampled data is different and seems close to the original one. And now you know why the coefficients are different.')"
   ]
  },
  {
   "cell_type": "code",
   "execution_count": 19,
   "metadata": {},
   "outputs": [],
   "source": [
    "from sklearn.utils import resample\n",
    "np.random.seed(1)\n",
    "coeffs_tmp = [model.fit(*resample(X, y)).coef_ for i in range(1000)]\n",
    "err = np.std(coeffs_tmp,0) #Columnar STD"
   ]
  },
  {
   "cell_type": "code",
   "execution_count": 20,
   "metadata": {},
   "outputs": [
    {
     "name": "stdout",
     "output_type": "stream",
     "text": [
      "               effect    error\n",
      "Mon            -654.0     66.0\n",
      "Tue            -526.0     69.0\n",
      "Wed            -540.0     67.0\n",
      "Thu            -688.0     67.0\n",
      "Fri           -1008.0     66.0\n",
      "Sat           -2354.0     64.0\n",
      "Sun           -2431.0     64.0\n",
      "holiday       -1200.0    114.0\n",
      "DayLightHrs     111.0      7.0\n",
      "AvgTempInC      406.0     16.0\n",
      "PRCP_IN     -175738.0  11018.0\n",
      "DryDay          517.0     25.0\n",
      "YearsCount       40.0      6.0\n"
     ]
    }
   ],
   "source": [
    "# With these errors estimated, let's again look at the results:\n",
    "print(pd.DataFrame({'effect': coeffs.round(0),\n",
    "                    'error': err.round(0)}))"
   ]
  },
  {
   "cell_type": "code",
   "execution_count": null,
   "metadata": {},
   "outputs": [],
   "source": []
  }
 ],
 "metadata": {
  "kernelspec": {
   "display_name": "testing",
   "language": "python",
   "name": "testing"
  },
  "language_info": {
   "codemirror_mode": {
    "name": "ipython",
    "version": 3
   },
   "file_extension": ".py",
   "mimetype": "text/x-python",
   "name": "python",
   "nbconvert_exporter": "python",
   "pygments_lexer": "ipython3",
   "version": "3.8.5"
  }
 },
 "nbformat": 4,
 "nbformat_minor": 4
}
